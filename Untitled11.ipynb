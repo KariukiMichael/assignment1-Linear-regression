{
  "nbformat": 4,
  "nbformat_minor": 0,
  "metadata": {
    "colab": {
      "provenance": [],
      "authorship_tag": "ABX9TyPgVWNZ4YWQ75VlHXVL1sEl",
      "include_colab_link": true
    },
    "kernelspec": {
      "name": "python3",
      "display_name": "Python 3"
    },
    "language_info": {
      "name": "python"
    }
  },
  "cells": [
    {
      "cell_type": "markdown",
      "metadata": {
        "id": "view-in-github",
        "colab_type": "text"
      },
      "source": [
        "<a href=\"https://colab.research.google.com/github/KariukiMichael/assignment1-Linear-regression/blob/main/Untitled11.ipynb\" target=\"_parent\"><img src=\"https://colab.research.google.com/assets/colab-badge.svg\" alt=\"Open In Colab\"/></a>"
      ]
    },
    {
      "cell_type": "code",
      "source": [
        "import pandas as pd\n",
        "from sklearn.model_selection import train_test_split\n",
        "from sklearn.ensemble import RandomForestRegressor\n",
        "from sklearn.tree import DecisionTreeRegressor\n",
        "from sklearn.metrics import mean_squared_error, mean_absolute_error\n",
        "\n",
        "data = pd.read_csv('/content/Real estate.csv')\n",
        "\n",
        "\n",
        "X = data[['No', 'X1 transaction date', 'X2 house age', 'X3 distance to the nearest MRT station', 'X4 number of convenience stores', 'X5 latitude', 'X6 longitude']]\n",
        "Y = data['Y house price of unit area']\n",
        "\n",
        "X_train, X_test, Y_train, Y_test = train_test_split(X, Y, test_size=0.2, random_state=42)\n",
        "\n",
        "# Train the random forest model\n",
        "rf_model = RandomForestRegressor(random_state=42)\n",
        "rf_model.fit(X_train, Y_train)\n",
        "\n",
        "# Train the decision tree model\n",
        "dt_model = DecisionTreeRegressor(random_state=42)\n",
        "dt_model.fit(X_train, Y_train)\n",
        "\n",
        "rf_y_pred = rf_model.predict(X_test)\n",
        "dt_y_pred = dt_model.predict(X_test)\n",
        "\n",
        "# Evaluate the models\n",
        "rf_mse = mean_squared_error(Y_test, rf_y_pred)\n",
        "rf_mae = mean_absolute_error(Y_test, rf_y_pred)\n",
        "rf_rmse = mean_squared_error(Y_test, rf_y_pred, squared=False)\n",
        "\n",
        "dt_mse = mean_squared_error(Y_test, dt_y_pred)\n",
        "dt_mae = mean_absolute_error(Y_test, dt_y_pred)\n",
        "dt_rmse = mean_squared_error(Y_test, dt_y_pred, squared=False)\n",
        "\n",
        "print(\"Random Forest:\")\n",
        "print(\"Mean Squared Error:\", rf_mse)\n",
        "print(\"Mean Absolute Error:\", rf_mae)\n",
        "print(\"Root Mean Squared Error:\", rf_rmse)\n",
        "\n",
        "print(\"\\nDecision Tree:\")\n",
        "print(\"Mean Squared Error:\", dt_mse)\n",
        "print(\"Mean Absolute Error:\", dt_mae)\n",
        "print(\"Root Mean Squared Error:\", dt_rmse)\n",
        "\n",
        "# Compare the models\n",
        "if rf_rmse < dt_rmse:\n",
        "    print(\"\\nRandom Forest is preferred.\")\n",
        "else:\n",
        "    print(\"\\nDecision Tree is preferred.\")\n"
      ],
      "metadata": {
        "colab": {
          "base_uri": "https://localhost:8080/"
        },
        "id": "kdZx3C9pOCQK",
        "outputId": "e0b4353b-da72-47b6-bee5-3c050e396205"
      },
      "execution_count": 1,
      "outputs": [
        {
          "output_type": "stream",
          "name": "stdout",
          "text": [
            "Random Forest:\n",
            "Mean Squared Error: 31.859230951807227\n",
            "Mean Absolute Error: 3.8668554216867457\n",
            "Root Mean Squared Error: 5.644398192173123\n",
            "\n",
            "Decision Tree:\n",
            "Mean Squared Error: 53.89337349397591\n",
            "Mean Absolute Error: 5.360240963855421\n",
            "Root Mean Squared Error: 7.341210628634483\n",
            "\n",
            "Random Forest is preferred.\n"
          ]
        }
      ]
    }
  ]
}